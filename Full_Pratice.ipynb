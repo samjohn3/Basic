{
 "cells": [
  {
   "cell_type": "code",
   "execution_count": 308,
   "id": "177f0c30-a527-43b5-9bd8-a528f7add94b",
   "metadata": {},
   "outputs": [
    {
     "name": "stdout",
     "output_type": "stream",
     "text": [
      "0 1 2 3 4 5 6 7 8 9 10 11 12 13 14 15 16 17 18 19 20 21 22 23 24 25 26 27 28 29 30 31 32 33 34 35 36 37 38 39 40 41 42 43 44 45 46 47 48 49 50 "
     ]
    }
   ],
   "source": [
    "#whole number start witth zero:\n",
    "for i in range(0,50+1):\n",
    "    print(i,end=\" \")"
   ]
  },
  {
   "cell_type": "code",
   "execution_count": 314,
   "id": "f6c7fc44-f7a1-4aaf-9c43-89c52a1917b2",
   "metadata": {},
   "outputs": [
    {
     "name": "stdout",
     "output_type": "stream",
     "text": [
      "1 2 3 4 5 6 7 8 9 10 11 12 13 14 15 16 17 18 19 20 21 22 23 24 25 26 27 28 29 30 31 32 33 34 35 36 37 38 39 40 41 42 43 44 45 46 47 48 49 50 "
     ]
    }
   ],
   "source": [
    "#natural number start with 1\n",
    "for i in range(1,50+1):\n",
    "    print(i,end=\" \")"
   ]
  },
  {
   "cell_type": "code",
   "execution_count": 322,
   "id": "aa72640f-3092-49dd-9022-f2aa511afc19",
   "metadata": {},
   "outputs": [
    {
     "name": "stdout",
     "output_type": "stream",
     "text": [
      "-10 -9 -8 -7 -6 -5 -4 -3 -2 -1 0 1 2 3 4 5 6 7 8 9 10 "
     ]
    }
   ],
   "source": [
    "#integers -10 to +10\n",
    "for i in range(-10,10+1):\n",
    "    print(i,end=\" \")"
   ]
  },
  {
   "cell_type": "code",
   "execution_count": 332,
   "id": "d505febb-9072-49f4-a17a-487dc75bfdfc",
   "metadata": {},
   "outputs": [
    {
     "name": "stdout",
     "output_type": "stream",
     "text": [
      "2 4 6 8 10 12 14 16 18 20 22 24 26 28 30 32 34 36 38 40 42 44 46 48 50 "
     ]
    }
   ],
   "source": [
    "#even numbers starts with 2\n",
    "for i in range(2,50+1,2):\n",
    "    print(i,end=\" \")"
   ]
  },
  {
   "cell_type": "code",
   "execution_count": 340,
   "id": "8274f6b8-97fe-4ad3-835f-9bd82f1755f7",
   "metadata": {},
   "outputs": [
    {
     "name": "stdout",
     "output_type": "stream",
     "text": [
      "1 3 5 7 9 11 13 15 17 19 21 23 25 27 29 31 33 35 37 39 41 43 45 47 49 "
     ]
    }
   ],
   "source": [
    "#odd numbers starts with 1\n",
    "for i in range(1,50+1,2):\n",
    "    print(i,end=\" \")"
   ]
  },
  {
   "cell_type": "code",
   "execution_count": 343,
   "id": "e3a18bc7-1a2b-4c55-b240-fea00fab8eb7",
   "metadata": {},
   "outputs": [
    {
     "name": "stdout",
     "output_type": "stream",
     "text": [
      "2 3 5 7 11 13 17 19 23 29 31 37 41 43 47 "
     ]
    }
   ],
   "source": [
    "#prime number\n",
    "for num in range(2, 50):\n",
    "    for i in range(2, num):\n",
    "        if num%i==0:\n",
    "            break\n",
    "    else:\n",
    "        print(num,end=\" \")\n"
   ]
  },
  {
   "cell_type": "code",
   "execution_count": 19,
   "id": "788b6a4f-6c79-4b4f-80e7-d9518f168846",
   "metadata": {},
   "outputs": [
    {
     "name": "stdin",
     "output_type": "stream",
     "text": [
      "enter your number: 5\n"
     ]
    },
    {
     "name": "stdout",
     "output_type": "stream",
     "text": [
      "odd\n"
     ]
    }
   ],
   "source": [
    "#check odd number or even\n",
    "num = int(input(\"enter your number:\"))\n",
    "if num==0:\n",
    "    print(\"zero\")\n",
    "elif num%2==0:\n",
    "    print(\"even\")\n",
    "else:\n",
    "    print(\"odd\")"
   ]
  },
  {
   "cell_type": "code",
   "execution_count": 337,
   "id": "99b74ca9-b280-4294-9e2b-a62ff28056d5",
   "metadata": {},
   "outputs": [
    {
     "name": "stdin",
     "output_type": "stream",
     "text": [
      "enter : 2\n"
     ]
    },
    {
     "name": "stdout",
     "output_type": "stream",
     "text": [
      "prime\n"
     ]
    }
   ],
   "source": [
    "#prime or not prime\n",
    "num = int(input(\"enter :\"))\n",
    "if num<=1:\n",
    "    print(\"not prime\")\n",
    "else:\n",
    "    for i in range(2,num):\n",
    "        if num%i==0:\n",
    "            print(\"not prime\")\n",
    "            break\n",
    "    else:\n",
    "        print(\"prime\")"
   ]
  },
  {
   "cell_type": "code",
   "execution_count": 345,
   "id": "29bb399f-d7d9-41b2-a001-fa84d7187384",
   "metadata": {},
   "outputs": [
    {
     "name": "stdout",
     "output_type": "stream",
     "text": [
      "120\n"
     ]
    }
   ],
   "source": [
    "#factorial\n",
    "fact = 1\n",
    "num = 5\n",
    "for i in range(1,num+1):\n",
    "    fact = fact*i\n",
    "print(fact)"
   ]
  },
  {
   "cell_type": "code",
   "execution_count": 524,
   "id": "212cad08-8066-4fb0-b44e-e35c27d76e09",
   "metadata": {},
   "outputs": [
    {
     "name": "stdin",
     "output_type": "stream",
     "text": [
      "enter: 153\n"
     ]
    },
    {
     "name": "stdout",
     "output_type": "stream",
     "text": [
      "ams\n"
     ]
    }
   ],
   "source": [
    "#amstrong\n",
    "num = int(input(\"enter:\")) #user\n",
    "num_str = str(num)  #convert num to string\n",
    "n = len(num_str) #check len\n",
    "s = 0  #check sum=0\n",
    "\n",
    "for i in num_str:\n",
    "    s=s+int(i)**n\n",
    "if s==num:\n",
    "    print(\"ams\")\n",
    "else:\n",
    "    print(\"not ams\")\n"
   ]
  },
  {
   "cell_type": "code",
   "execution_count": 7,
   "id": "99916065-bcc2-468d-bcc7-21679aa1d897",
   "metadata": {},
   "outputs": [
    {
     "name": "stdin",
     "output_type": "stream",
     "text": [
      " e: 10\n"
     ]
    },
    {
     "name": "stdout",
     "output_type": "stream",
     "text": [
      "0 1 1 2 3 5 8 13 21 34 "
     ]
    }
   ],
   "source": [
    "#fabinacci\n",
    "n = int(input(\" e:\"))\n",
    "a,b=0,1\n",
    "for i in range(n):\n",
    "    print(a,end=\" \")\n",
    "    a,b=b,a+b"
   ]
  },
  {
   "cell_type": "code",
   "execution_count": 367,
   "id": "6f9403d5-4fb3-42b6-b02a-aab271f54ea6",
   "metadata": {},
   "outputs": [
    {
     "name": "stdout",
     "output_type": "stream",
     "text": [
      "{2, 4, 8, 10, 12}\n",
      "count= 5\n"
     ]
    }
   ],
   "source": [
    "#list the num of even numbers in the list and not alllo\n",
    "list1 = [1, 2, 4,3,8,10,12,12,15]\n",
    "u =[]\n",
    "for i in list1:\n",
    "    if i%2!=0:\n",
    "        continue\n",
    "    else:\n",
    "        u.append(i)\n",
    "        u_n = set(u)\n",
    "print(u_n)\n",
    "print(\"count=\",len(u_n))"
   ]
  },
  {
   "cell_type": "code",
   "execution_count": 136,
   "id": "f0572061-6a74-419d-b639-ec68d86387f0",
   "metadata": {},
   "outputs": [
    {
     "name": "stdout",
     "output_type": "stream",
     "text": [
      "4\n"
     ]
    }
   ],
   "source": [
    "#odd num\n",
    "list1=[1,3,2,5,10,15,15]\n",
    "odd = []\n",
    "for i in list1:\n",
    "    if i%2==0:\n",
    "        continue\n",
    "    else:\n",
    "        odd.append(i)\n",
    "print(len(set(odd)))"
   ]
  },
  {
   "cell_type": "code",
   "execution_count": 177,
   "id": "e1b17d70-040d-4865-8ab3-c05fdb5cdf5e",
   "metadata": {},
   "outputs": [
    {
     "name": "stdout",
     "output_type": "stream",
     "text": [
      "{2, 3, 5}\n"
     ]
    }
   ],
   "source": [
    "#prime num\n",
    "list1=[1,3,2,5,10,15,15]\n",
    "prime=[]\n",
    "for i in list1:\n",
    "    if i>1:\n",
    "        for j in range(2,i):\n",
    "            if i%j==0:\n",
    "                break\n",
    "        else:\n",
    "            prime.append(i)\n",
    "print(set(prime))"
   ]
  },
  {
   "cell_type": "code",
   "execution_count": 199,
   "id": "ca93a0ba-ac0c-420e-b90c-be44ca10a8c4",
   "metadata": {},
   "outputs": [
    {
     "name": "stdout",
     "output_type": "stream",
     "text": [
      "* \n",
      "* * \n",
      "* * * \n",
      "* * * * \n",
      "* * * * * \n"
     ]
    }
   ],
   "source": [
    "#pattern\n",
    "for i in range(1,6):\n",
    "    for j in range(1,i+1):\n",
    "        print(\"*\",end=\" \")\n",
    "    print()"
   ]
  },
  {
   "cell_type": "code",
   "execution_count": 211,
   "id": "b9a24064-5ad7-45a8-8d8f-7943b79d6d9f",
   "metadata": {},
   "outputs": [
    {
     "name": "stdout",
     "output_type": "stream",
     "text": [
      "* \n",
      "* * \n",
      "* * * \n",
      "* * * * \n",
      "* * * * * \n",
      "* \n",
      "* * \n",
      "* * * \n",
      "* * * * \n",
      "* \n",
      "* * \n",
      "* * * \n",
      "* \n",
      "* * \n",
      "* \n"
     ]
    }
   ],
   "source": [
    "for i in range(5,0,-1):\n",
    "    for j in range(1,i+1):\n",
    "        for k in range(1,j+1):\n",
    "            print(\"*\",end=\" \")\n",
    "        print()"
   ]
  },
  {
   "cell_type": "code",
   "execution_count": 215,
   "id": "ab04d5ba-1780-41b5-aafc-921cf38acd46",
   "metadata": {},
   "outputs": [
    {
     "name": "stdout",
     "output_type": "stream",
     "text": [
      "dlrow olleh \n"
     ]
    }
   ],
   "source": [
    "#palindrome\n",
    "word = \"hello world\"\n",
    "rev = \" \"\n",
    "for i in word:\n",
    "    rev = i+rev\n",
    "print(rev)"
   ]
  },
  {
   "cell_type": "code",
   "execution_count": 221,
   "id": "0b7a5a39-15a6-4ea7-955e-2adfd41d2b44",
   "metadata": {},
   "outputs": [
    {
     "name": "stdout",
     "output_type": "stream",
     "text": [
      "dlrow olleh\n"
     ]
    }
   ],
   "source": [
    "#short cut\n",
    "word = \"hello world\"\n",
    "print(word[::-1])"
   ]
  },
  {
   "cell_type": "code",
   "execution_count": 243,
   "id": "af51aa40-30dd-4e04-91bc-5816485dfd2b",
   "metadata": {},
   "outputs": [
    {
     "name": "stdout",
     "output_type": "stream",
     "text": [
      "['d', 'e', 'h', 'l', 'o', 'r', 'w']\n"
     ]
    }
   ],
   "source": [
    "#union\n",
    "a = \"world\"\n",
    "b = \"hello\"\n",
    "c = sorted(set(a) | set(b))\n",
    "print(c)"
   ]
  },
  {
   "cell_type": "code",
   "execution_count": 263,
   "id": "f66feb6f-1a3b-4f6e-921b-1f101e23a3e0",
   "metadata": {},
   "outputs": [
    {
     "name": "stdout",
     "output_type": "stream",
     "text": [
      "5\n",
      "3\n",
      "['e', 'h', 'l', 'o']\n"
     ]
    }
   ],
   "source": [
    "#intersection\n",
    "a = \"hello\"\n",
    "b = \"hel\"\n",
    "c = sorted(set(a)|set(b))\n",
    "print(len(a))\n",
    "print(len(b))\n",
    "print(c)"
   ]
  },
  {
   "cell_type": "code",
   "execution_count": 417,
   "id": "97b0f2e8-527d-406d-a6e8-d335fa229d0c",
   "metadata": {},
   "outputs": [
    {
     "data": {
      "text/plain": [
       "120"
      ]
     },
     "execution_count": 417,
     "metadata": {},
     "output_type": "execute_result"
    }
   ],
   "source": [
    "def factorial(n):\n",
    "    fact = 1\n",
    "    for i in range(1,n+1):\n",
    "        fact = fact*i\n",
    "    return fact\n",
    "factorial(5)"
   ]
  },
  {
   "cell_type": "code",
   "execution_count": 331,
   "id": "543b290c-0c4d-413b-9584-4a4409fba091",
   "metadata": {},
   "outputs": [
    {
     "name": "stdout",
     "output_type": "stream",
     "text": [
      "15\n",
      "-1\n"
     ]
    }
   ],
   "source": [
    "def add(a,b):\n",
    "    return a+b\n",
    "def sub(c,d):\n",
    "    return c-d\n",
    "print(add(7,8))\n",
    "print(sub(7,8))"
   ]
  },
  {
   "cell_type": "code",
   "execution_count": 403,
   "id": "8d13d7c9-a944-4119-bba7-4052401e1743",
   "metadata": {},
   "outputs": [
    {
     "name": "stdout",
     "output_type": "stream",
     "text": [
      "0 1 1 2 3 5 8 13 21 34 "
     ]
    }
   ],
   "source": [
    "def fabi(n):\n",
    "    a,b=0,1\n",
    "    for i in range(n):\n",
    "        print(a,end=\" \")\n",
    "        a,b=b,a+b\n",
    "fabi(10)"
   ]
  },
  {
   "cell_type": "code",
   "execution_count": 93,
   "id": "7845d385-2a1a-43da-8f75-57fa11e06853",
   "metadata": {},
   "outputs": [
    {
     "name": "stdin",
     "output_type": "stream",
     "text": [
      "Enter your table number:  11\n"
     ]
    },
    {
     "name": "stdout",
     "output_type": "stream",
     "text": [
      "11 X 1 = 11\n",
      "11 X 2 = 22\n",
      "11 X 3 = 33\n",
      "11 X 4 = 44\n",
      "11 X 5 = 55\n",
      "11 X 6 = 66\n",
      "11 X 7 = 77\n",
      "11 X 8 = 88\n",
      "11 X 9 = 99\n",
      "11 X 10 = 110\n",
      "total =  605\n"
     ]
    }
   ],
   "source": [
    "num = int(input(\"Enter your table number: \"))\n",
    "total = 0\n",
    "for i in range(1, 11):\n",
    "    table = num * i\n",
    "    print(num,\"X\",i,\"=\",table)\n",
    "    total += table\n",
    "print(\"total = \",total)"
   ]
  },
  {
   "cell_type": "code",
   "execution_count": 57,
   "id": "51fef471-0d34-4048-85e4-0b93e59d2c78",
   "metadata": {},
   "outputs": [
    {
     "name": "stdin",
     "output_type": "stream",
     "text": [
      "Enter your table number:  11\n"
     ]
    },
    {
     "name": "stdout",
     "output_type": "stream",
     "text": [
      "11\n",
      "22\n",
      "33\n",
      "44\n",
      "55\n",
      "66\n",
      "77\n",
      "88\n",
      "99\n",
      "110\n",
      "Total Sum = 605\n"
     ]
    }
   ],
   "source": [
    "num = int(input(\"Enter your table number: \"))\n",
    "total = 0\n",
    "\n",
    "for i in range(1, 11):\n",
    "    multiple = num * i\n",
    "    print(multiple)\n",
    "    total += multiple\n",
    "\n",
    "print(\"Total Sum =\", total)\n"
   ]
  },
  {
   "cell_type": "code",
   "execution_count": 139,
   "id": "f99f4858-4687-4cf6-b04b-dc1b39d5256b",
   "metadata": {},
   "outputs": [
    {
     "name": "stdout",
     "output_type": "stream",
     "text": [
      "1\n"
     ]
    }
   ],
   "source": [
    "#vowels\n",
    "word = \"sam\"    #a\n",
    "vowels = \"aeiouAEIOU\"\n",
    "count = 0\n",
    "for i in word:\n",
    "    if i in vowels:\n",
    "        count +=1\n",
    "print(count)"
   ]
  },
  {
   "cell_type": "code",
   "execution_count": 161,
   "id": "fe44197d-4ead-487e-b7d3-f910537fb3f2",
   "metadata": {},
   "outputs": [
    {
     "name": "stdout",
     "output_type": "stream",
     "text": [
      "{'a'}\n"
     ]
    }
   ],
   "source": [
    "#vowels\n",
    "word = \"saaaaaaaaaaaam\"\n",
    "vowels = \"aeiouAEIOU\"\n",
    "count = []\n",
    "for i in word:\n",
    "    if i in vowels:\n",
    "        count.append(i)\n",
    "print(set(count))"
   ]
  },
  {
   "cell_type": "code",
   "execution_count": 221,
   "id": "eb112e34-8991-483a-9d7e-411937889a2c",
   "metadata": {},
   "outputs": [
    {
     "name": "stdin",
     "output_type": "stream",
     "text": [
      "enter your number: 3\n"
     ]
    },
    {
     "name": "stdout",
     "output_type": "stream",
     "text": [
      "not factorial\n"
     ]
    }
   ],
   "source": [
    "#given number is factorial or not factorial\n",
    "fact = 1\n",
    "num = int(input(\"enter your number:\"))\n",
    "for i in range(1,num+1):\n",
    "    fact = fact*i\n",
    "    if fact==num:\n",
    "        print(\"factorial\")\n",
    "        break\n",
    "    elif fact>num:\n",
    "        print(\"not factorial\")\n",
    "        break"
   ]
  },
  {
   "cell_type": "code",
   "execution_count": 285,
   "id": "50ede0ce-40de-43e5-b557-4482c796be10",
   "metadata": {},
   "outputs": [
    {
     "name": "stdin",
     "output_type": "stream",
     "text": [
      "enter your number: 1\n"
     ]
    },
    {
     "name": "stdout",
     "output_type": "stream",
     "text": [
      "it's fabi\n"
     ]
    }
   ],
   "source": [
    "#fabi or not fabi\n",
    "num = int(input(\"enter your number:\"))\n",
    "a,b =0,1\n",
    "for i in range(num+1):\n",
    "    if a == num:\n",
    "        print(\"it's fabi\")\n",
    "        break\n",
    "    a,b=b,a+b\n",
    "else:\n",
    "    print(\"not fabi\")\n"
   ]
  },
  {
   "cell_type": "code",
   "execution_count": 305,
   "id": "72cf4681-feed-445f-ae94-45d3eb97e46a",
   "metadata": {},
   "outputs": [
    {
     "name": "stdout",
     "output_type": "stream",
     "text": [
      "unhsiv\n",
      "mas\n"
     ]
    }
   ],
   "source": [
    "#palindrome\n",
    "word = \"vishnu\"\n",
    "print(word[::-1])\n",
    "\n",
    "#loop method\n",
    "word = \"sam\"\n",
    "r =\"\"\n",
    "for i in word:\n",
    "    r = i + r\n",
    "print(r)"
   ]
  },
  {
   "cell_type": "code",
   "execution_count": 337,
   "id": "d8bf58d5-ad24-4e69-9a45-197f99c87062",
   "metadata": {},
   "outputs": [
    {
     "name": "stdin",
     "output_type": "stream",
     "text": [
      "enter: saas\n"
     ]
    },
    {
     "name": "stdout",
     "output_type": "stream",
     "text": [
      "palindrome\n"
     ]
    }
   ],
   "source": [
    "#palindrome or not\n",
    "word = input(\"enter:\")\n",
    "r = \"\"\n",
    "for i in word:\n",
    "    r = i + r\n",
    "if word == r:\n",
    "    print(\"palindrome\")\n",
    "else:\n",
    "    print(\"not palindrome\")"
   ]
  },
  {
   "cell_type": "code",
   "execution_count": 339,
   "id": "42d4674d-8a60-46f1-9010-028bbb97674b",
   "metadata": {},
   "outputs": [
    {
     "name": "stdin",
     "output_type": "stream",
     "text": [
      "enter : sam\n"
     ]
    },
    {
     "name": "stdout",
     "output_type": "stream",
     "text": [
      "mas \n"
     ]
    }
   ],
   "source": [
    "#reverse a string\n",
    "string =input(\"enter :\")\n",
    "rev_string = \" \"\n",
    "for i in string:\n",
    "    rev_string = i+rev_string\n",
    "print(rev_string)"
   ]
  },
  {
   "cell_type": "code",
   "execution_count": 361,
   "id": "5ff79d38-8a66-433c-8dec-dde3de6b926c",
   "metadata": {},
   "outputs": [
    {
     "name": "stdin",
     "output_type": "stream",
     "text": [
      "enter : sam\n",
      "enter : vishnu\n"
     ]
    },
    {
     "name": "stdout",
     "output_type": "stream",
     "text": [
      "vishnu sam\n"
     ]
    }
   ],
   "source": [
    "a = input(\"enter :\")\n",
    "b = input(\"enter :\")\n",
    "a,b=b,a\n",
    "print(a,b)"
   ]
  },
  {
   "cell_type": "code",
   "execution_count": 452,
   "id": "6e606569-1b5b-4e46-8483-19845f192c7c",
   "metadata": {},
   "outputs": [
    {
     "name": "stdin",
     "output_type": "stream",
     "text": [
      "enter: 6\n"
     ]
    },
    {
     "name": "stdout",
     "output_type": "stream",
     "text": [
      "perfect\n"
     ]
    }
   ],
   "source": [
    "num = int(input(\"enter:\"))\n",
    "s = 0\n",
    "for i in range(1,num):\n",
    "    if num%i == 0:\n",
    "        s=s+i\n",
    "if s == num:\n",
    "    print(\"perfect\")\n",
    "else:\n",
    "    print(\"not perfect\")"
   ]
  },
  {
   "cell_type": "code",
   "execution_count": 526,
   "id": "225a74f0-b078-408c-b99c-450bd3fdb171",
   "metadata": {},
   "outputs": [
    {
     "name": "stdout",
     "output_type": "stream",
     "text": [
      "ramya\n"
     ]
    }
   ],
   "source": [
    "#slicing and cancadination\n",
    "name = \"ramaya\" #clinent want ramya\n",
    "new_name = name[:3]+name[-2:]\n",
    "print(new_name)"
   ]
  },
  {
   "cell_type": "code",
   "execution_count": 552,
   "id": "e06c1a14-c534-423a-a77b-e85085025322",
   "metadata": {},
   "outputs": [
    {
     "name": "stdin",
     "output_type": "stream",
     "text": [
      " 10\n"
     ]
    },
    {
     "name": "stdout",
     "output_type": "stream",
     "text": [
      "1\n",
      "2\n",
      "3\n",
      "4\n",
      "5\n",
      "6\n",
      "7\n",
      "8\n",
      "9\n",
      "10\n",
      "total 55\n"
     ]
    }
   ],
   "source": [
    "num = int(input(\"\"))\n",
    "s = 0\n",
    "total=0\n",
    "for i in range(1,num+1):\n",
    "    s = s+i\n",
    "    print(i)\n",
    "    total = total + i\n",
    "print(\"total\",total)\n",
    "    "
   ]
  },
  {
   "cell_type": "code",
   "execution_count": 599,
   "id": "4c34b0fc-67e0-4d11-bf9f-9c19401df42b",
   "metadata": {},
   "outputs": [
    {
     "name": "stdout",
     "output_type": "stream",
     "text": [
      "a\n",
      "4\n"
     ]
    }
   ],
   "source": [
    "#vowels\n",
    "word = \"sam\"\n",
    "vowels = \"aeiouAEIOU\"\n",
    "count = \"\"\n",
    "for i in word:\n",
    "    if i in vowels:\n",
    "        count=count+i\n",
    "print(count)\n",
    "\n",
    "word = \"saaaam\"\n",
    "vowels = \"aeiouAEIOU\"\n",
    "count = 0\n",
    "for i in word:\n",
    "    if i in vowels:\n",
    "        count = count+1\n",
    "print(count)"
   ]
  },
  {
   "cell_type": "code",
   "execution_count": 651,
   "id": "4e7496ff-c814-41d2-af1a-81d60053164e",
   "metadata": {},
   "outputs": [
    {
     "name": "stdin",
     "output_type": "stream",
     "text": [
      "enter:   S\n",
      "enter:   S\n",
      "enter:    S\n",
      "enter:    S\n",
      "enter:   S\n"
     ]
    },
    {
     "name": "stdout",
     "output_type": "stream",
     "text": [
      "['s', 's', 's', 's', 's']\n"
     ]
    }
   ],
   "source": [
    "count = []\n",
    "for i in range(1,5+1):\n",
    "    name = str(input(\"enter:\")).strip().lower()\n",
    "    if name.startswith(\"s\"):\n",
    "        count.append(name)\n",
    "print(count)"
   ]
  },
  {
   "cell_type": "code",
   "execution_count": 655,
   "id": "b3c21d11-5d86-40ba-9064-cdb67fee14fd",
   "metadata": {},
   "outputs": [
    {
     "name": "stdout",
     "output_type": "stream",
     "text": [
      "6\n",
      "-1\n",
      "18\n",
      "2.0\n"
     ]
    }
   ],
   "source": [
    "def add(a,b):\n",
    "    return a+b\n",
    "def sub(c,d):\n",
    "    return c-d\n",
    "def mul(e,f):\n",
    "    return e*f\n",
    "def div(g,h):\n",
    "    return g/h\n",
    "print(add(2,4))\n",
    "print(sub(3,4))\n",
    "print(mul(2,9))\n",
    "print(div(8,4))"
   ]
  },
  {
   "cell_type": "code",
   "execution_count": 669,
   "id": "9f958c56-5437-4aec-bfa7-91a6f6a6e0de",
   "metadata": {},
   "outputs": [
    {
     "name": "stdout",
     "output_type": "stream",
     "text": [
      "7 -3\n",
      "-21\n"
     ]
    }
   ],
   "source": [
    "def num1(a,b):\n",
    "    return a+b\n",
    "def num2(c,d):\n",
    "    return c-d\n",
    "def num3(x,y):\n",
    "    print(x*y)\n",
    "\n",
    "res1 = num1(5,2)\n",
    "res2 = num2(2,5)\n",
    "\n",
    "print(res1,res2)\n",
    "num3(res1,res2)"
   ]
  },
  {
   "cell_type": "code",
   "execution_count": 84,
   "id": "86d62aff-a09f-41a2-98c2-1363296cce6f",
   "metadata": {},
   "outputs": [
    {
     "name": "stdout",
     "output_type": "stream",
     "text": [
      "0 1 1 2 3 "
     ]
    }
   ],
   "source": [
    "def  febi(n):\n",
    "    a,b=0,1\n",
    "    for i in range(n):\n",
    "        print(a,end=\" \")\n",
    "        a,b=b,a+b\n",
    "febi(5)"
   ]
  },
  {
   "cell_type": "code",
   "execution_count": 88,
   "id": "1b96cd63-e3cf-4ec2-8162-812142b0c8ac",
   "metadata": {},
   "outputs": [
    {
     "name": "stdout",
     "output_type": "stream",
     "text": [
      "1\n",
      "2\n",
      "6\n",
      "24\n",
      "120\n"
     ]
    }
   ],
   "source": [
    "def fact(n):\n",
    "    fact = 1\n",
    "    for i in range(1,n+1):\n",
    "        fact = fact*i\n",
    "        print(fact)\n",
    "fact(5)"
   ]
  },
  {
   "cell_type": "code",
   "execution_count": 98,
   "id": "7a9f069b-e865-49cf-aac5-d642a204607b",
   "metadata": {},
   "outputs": [
    {
     "name": "stdout",
     "output_type": "stream",
     "text": [
      "prime\n"
     ]
    }
   ],
   "source": [
    "def prime(num):\n",
    "    if num<=1:\n",
    "        print(\"not prime\")\n",
    "    else:\n",
    "        for i in range(2,num+1):\n",
    "            if n%i==0:\n",
    "                print(\"not prime\")\n",
    "                break\n",
    "            else:\n",
    "                print(\"prime\")\n",
    "                break\n",
    "\n",
    "prime(120)"
   ]
  },
  {
   "cell_type": "code",
   "execution_count": 108,
   "id": "09aa5b14-7d4b-447a-9f2a-3d12e42c5a08",
   "metadata": {},
   "outputs": [
    {
     "name": "stdin",
     "output_type": "stream",
     "text": [
      "enter: 153\n"
     ]
    },
    {
     "name": "stdout",
     "output_type": "stream",
     "text": [
      "ams\n"
     ]
    }
   ],
   "source": [
    "def ams(hello):\n",
    "    num = int(input(\"enter:\"))\n",
    "    num_str = str(num)\n",
    "    n = len(num_str)\n",
    "    s = 0\n",
    "    for i in num_str:\n",
    "        s= s+int(i)**n\n",
    "    if s==num:\n",
    "        print(\"ams\")\n",
    "    else:\n",
    "        print(\"not ams\")\n",
    "\n",
    "ams(\"hi\")"
   ]
  },
  {
   "cell_type": "code",
   "execution_count": null,
   "id": "8b4c3de9-fa53-4527-a116-b9c1a579c763",
   "metadata": {},
   "outputs": [],
   "source": []
  },
  {
   "cell_type": "code",
   "execution_count": null,
   "id": "2d4f6710-d5a3-4ed6-8a64-f19f1575f827",
   "metadata": {},
   "outputs": [],
   "source": []
  },
  {
   "cell_type": "code",
   "execution_count": null,
   "id": "a839eb55-e5fd-411a-9724-25de74366b2e",
   "metadata": {},
   "outputs": [],
   "source": []
  },
  {
   "cell_type": "code",
   "execution_count": null,
   "id": "aad777e9-400a-406f-82f3-817fe9c3759d",
   "metadata": {},
   "outputs": [],
   "source": []
  },
  {
   "cell_type": "code",
   "execution_count": null,
   "id": "130ccfd6-bffb-4f11-8734-cb62218f8f74",
   "metadata": {},
   "outputs": [],
   "source": []
  }
 ],
 "metadata": {
  "kernelspec": {
   "display_name": "Python [conda env:base] *",
   "language": "python",
   "name": "conda-base-py"
  },
  "language_info": {
   "codemirror_mode": {
    "name": "ipython",
    "version": 3
   },
   "file_extension": ".py",
   "mimetype": "text/x-python",
   "name": "python",
   "nbconvert_exporter": "python",
   "pygments_lexer": "ipython3",
   "version": "3.12.7"
  }
 },
 "nbformat": 4,
 "nbformat_minor": 5
}
